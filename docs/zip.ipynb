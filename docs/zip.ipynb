{
 "cells": [
  {
   "cell_type": "code",
   "execution_count": 1,
   "metadata": {},
   "outputs": [
    {
     "name": "stdout",
     "output_type": "stream",
     "text": [
      "O arquivo Mantas Mes 8-2023 do dia 1 ate dia 15 .pdf não existe e será ignorado.\n",
      "O arquivo Mantas Mes 8-2023 do dia 16 ate dia 31 .pdf não existe e será ignorado.\n",
      "O arquivo Mantas Mes 9-2023.pdf não existe e será ignorado.\n"
     ]
    }
   ],
   "source": [
    "import zipfile \n",
    "import os \n",
    " \n",
    "def compactar_arquivos(lista_arquivos, nome_arquivo_zip): \n",
    "    # Criar um arquivo ZIP em modo de escrita \n",
    "    with zipfile.ZipFile(nome_arquivo_zip, 'w') as zipf: \n",
    "        # Iterar sobre a lista de arquivos e adicioná-los ao arquivo ZIP \n",
    "        for arquivo in lista_arquivos: \n",
    "            if os.path.isfile(arquivo): \n",
    "                zipf.write(arquivo) \n",
    "            else: \n",
    "                print(f\"O arquivo {arquivo} não existe e será ignorado.\") \n",
    " \n",
    "# Lista dos nomes dos arquivos a serem compactados \n",
    "arquivos_para_compactar = ['Mantas Mes 8-2023 do dia 1 ate dia 15 .pdf',\n",
    "                            'Mantas Mes 8-2023 do dia 16 ate dia 31 .pdf',\n",
    "                            'Mantas Mes 9-2023.pdf'] \n",
    " \n",
    "# Nome do arquivo ZIP de saída \n",
    "nome_zip = 'mantas_compactados.zip' \n",
    " \n",
    "# Chamada da função \n",
    "compactar_arquivos(arquivos_para_compactar, nome_zip)"
   ]
  },
  {
   "cell_type": "markdown",
   "metadata": {},
   "source": []
  }
 ],
 "metadata": {
  "kernelspec": {
   "display_name": "Python 3",
   "language": "python",
   "name": "python3"
  },
  "language_info": {
   "codemirror_mode": {
    "name": "ipython",
    "version": 3
   },
   "file_extension": ".py",
   "mimetype": "text/x-python",
   "name": "python",
   "nbconvert_exporter": "python",
   "pygments_lexer": "ipython3",
   "version": "3.12.0"
  }
 },
 "nbformat": 4,
 "nbformat_minor": 2
}
